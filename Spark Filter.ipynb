{
 "cells": [
  {
   "cell_type": "code",
   "execution_count": 2,
   "metadata": {},
   "outputs": [],
   "source": [
    "from pyspark.sql import SparkSession\n",
    "spark = SparkSession.builder.appName(\"Filter 1\").getOrCreate()"
   ]
  },
  {
   "cell_type": "code",
   "execution_count": 3,
   "metadata": {},
   "outputs": [
    {
     "name": "stdout",
     "output_type": "stream",
     "text": [
      "+------+---------+--------+\n",
      "|  Name|Salary/Hr|Duration|\n",
      "+------+---------+--------+\n",
      "|George|      5.0|     1.0|\n",
      "| KFC 1|      4.6|     0.5|\n",
      "| KFC 2|      5.8|     0.5|\n",
      "| KFC 3|     7.11|     1.0|\n",
      "| KFC 4|      9.5|     3.0|\n",
      "|SubWay|      9.8|     0.5|\n",
      "|   MnS|     10.9|     0.5|\n",
      "|Greggs|    11.41|    0.17|\n",
      "+------+---------+--------+\n",
      "\n"
     ]
    }
   ],
   "source": [
    "df = spark.read.csv(\"Salaries.csv\", header = True, inferSchema = True)\n",
    "df.show()"
   ]
  },
  {
   "cell_type": "code",
   "execution_count": 16,
   "metadata": {},
   "outputs": [
    {
     "name": "stdout",
     "output_type": "stream",
     "text": [
      "+------+---------+--------+\n",
      "|  Name|Salary/Hr|Duration|\n",
      "+------+---------+--------+\n",
      "| KFC 4|      9.5|     3.0|\n",
      "|SubWay|      9.8|     0.5|\n",
      "|   MnS|     10.9|     0.5|\n",
      "|Greggs|    11.41|    0.17|\n",
      "+------+---------+--------+\n",
      "\n",
      "+------+---------+--------+\n",
      "|  Name|Salary/Hr|Duration|\n",
      "+------+---------+--------+\n",
      "|George|      5.0|     1.0|\n",
      "| KFC 1|      4.6|     0.5|\n",
      "| KFC 2|      5.8|     0.5|\n",
      "| KFC 3|     7.11|     1.0|\n",
      "+------+---------+--------+\n",
      "\n"
     ]
    }
   ],
   "source": [
    "#Filtering\n",
    "df.filter(df['Salary/Hr'] >= 8).show()\n",
    "#Use of tilda to do the inverse\n",
    "df.filter(~(df['Salary/Hr'] >= 8)).show()"
   ]
  },
  {
   "cell_type": "code",
   "execution_count": 12,
   "metadata": {},
   "outputs": [
    {
     "name": "stdout",
     "output_type": "stream",
     "text": [
      "+------+\n",
      "|  Name|\n",
      "+------+\n",
      "| KFC 4|\n",
      "|SubWay|\n",
      "|   MnS|\n",
      "|Greggs|\n",
      "+------+\n",
      "\n"
     ]
    }
   ],
   "source": [
    "#Filtering and Only showing specific oclumns\n",
    "df.filter(df['Salary/Hr'] >= 8).select('Name').show()"
   ]
  },
  {
   "cell_type": "code",
   "execution_count": 14,
   "metadata": {},
   "outputs": [
    {
     "name": "stdout",
     "output_type": "stream",
     "text": [
      "+------+---------+--------+\n",
      "|  Name|Salary/Hr|Duration|\n",
      "+------+---------+--------+\n",
      "| KFC 4|      9.5|     3.0|\n",
      "|SubWay|      9.8|     0.5|\n",
      "|   MnS|     10.9|     0.5|\n",
      "+------+---------+--------+\n",
      "\n"
     ]
    }
   ],
   "source": [
    "#Multiple filtering\n",
    "df.filter((df['Salary/Hr'] >= 8) & (df['Duration'] >= 0.5)).show()"
   ]
  }
 ],
 "metadata": {
  "kernelspec": {
   "display_name": "Python 3",
   "language": "python",
   "name": "python3"
  },
  "language_info": {
   "codemirror_mode": {
    "name": "ipython",
    "version": 3
   },
   "file_extension": ".py",
   "mimetype": "text/x-python",
   "name": "python",
   "nbconvert_exporter": "python",
   "pygments_lexer": "ipython3",
   "version": "3.11.6"
  }
 },
 "nbformat": 4,
 "nbformat_minor": 2
}
