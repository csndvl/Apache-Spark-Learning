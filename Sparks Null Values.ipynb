{
 "cells": [
  {
   "cell_type": "code",
   "execution_count": 1,
   "metadata": {},
   "outputs": [],
   "source": [
    "from pyspark.sql import SparkSession\n",
    "spark = SparkSession.builder.appName(\"Cleaning 1\").getOrCreate()"
   ]
  },
  {
   "cell_type": "code",
   "execution_count": 24,
   "metadata": {},
   "outputs": [],
   "source": [
    "df = spark.read.csv(\"Salaries 1.csv\", header = True, inferSchema = True)"
   ]
  },
  {
   "cell_type": "code",
   "execution_count": 19,
   "metadata": {},
   "outputs": [
    {
     "name": "stdout",
     "output_type": "stream",
     "text": [
      "+------+---------+--------+\n",
      "|  Name|Salary/Hr|Duration|\n",
      "+------+---------+--------+\n",
      "|George|      5.0|     1.0|\n",
      "|  NULL|      1.0|     4.6|\n",
      "| KFC 2|      5.8|    NULL|\n",
      "|  NULL|     NULL|    NULL|\n",
      "| KFC 4|      9.5|     3.0|\n",
      "|  NULL|     NULL|     0.5|\n",
      "|   MnS|     10.9|     0.5|\n",
      "|Greggs|    11.41|    0.17|\n",
      "+------+---------+--------+\n",
      "\n"
     ]
    }
   ],
   "source": [
    "df.show()"
   ]
  },
  {
   "cell_type": "code",
   "execution_count": null,
   "metadata": {},
   "outputs": [],
   "source": [
    "#Dropping Column\n",
    "df.drop('Column Name')"
   ]
  },
  {
   "cell_type": "code",
   "execution_count": 34,
   "metadata": {},
   "outputs": [
    {
     "name": "stdout",
     "output_type": "stream",
     "text": [
      "+------+---------+--------+\n",
      "|  Name|Salary/Hr|Duration|\n",
      "+------+---------+--------+\n",
      "|George|      5.0|     1.0|\n",
      "| KFC 4|      9.5|     3.0|\n",
      "|   MnS|     10.9|     0.5|\n",
      "|Greggs|    11.41|    0.17|\n",
      "+------+---------+--------+\n",
      "\n"
     ]
    }
   ],
   "source": [
    "#Drop NULL Values\n",
    "df.dropna().show()"
   ]
  },
  {
   "cell_type": "code",
   "execution_count": 21,
   "metadata": {},
   "outputs": [
    {
     "name": "stdout",
     "output_type": "stream",
     "text": [
      "+------+---------+--------+\n",
      "|  Name|Salary/Hr|Duration|\n",
      "+------+---------+--------+\n",
      "|George|      5.0|     1.0|\n",
      "|  NULL|      1.0|     4.6|\n",
      "| KFC 2|      5.8|    NULL|\n",
      "| KFC 4|      9.5|     3.0|\n",
      "|   MnS|     10.9|     0.5|\n",
      "|Greggs|    11.41|    0.17|\n",
      "+------+---------+--------+\n",
      "\n"
     ]
    }
   ],
   "source": [
    "#Threshold\n",
    "df.na.drop(how='any', thresh=2).show() #Shows at least 2 Null values in a row"
   ]
  },
  {
   "cell_type": "code",
   "execution_count": null,
   "metadata": {},
   "outputs": [],
   "source": [
    "#Subset\n",
    "df.na.drop(subset=['Column Name'])"
   ]
  },
  {
   "cell_type": "code",
   "execution_count": 47,
   "metadata": {},
   "outputs": [
    {
     "name": "stdout",
     "output_type": "stream",
     "text": [
      "+--------------+---------+--------+\n",
      "|          Name|Salary/Hr|Duration|\n",
      "+--------------+---------+--------+\n",
      "|        George|      5.0|     1.0|\n",
      "|Missing Values|      1.0|     4.6|\n",
      "|         KFC 2|      5.8|    NULL|\n",
      "|Missing Values|     NULL|    NULL|\n",
      "|         KFC 4|      9.5|     3.0|\n",
      "|Missing Values|     NULL|     0.5|\n",
      "|           MnS|     10.9|     0.5|\n",
      "|        Greggs|    11.41|    0.17|\n",
      "+--------------+---------+--------+\n",
      "\n"
     ]
    }
   ],
   "source": [
    "#Fill missing values\n",
    "df.na.fill((\"Missing Values\")).show() # Only works for string data type columns"
   ]
  },
  {
   "cell_type": "code",
   "execution_count": null,
   "metadata": {},
   "outputs": [],
   "source": [
    "# from pyspark.ml.feature import Inputer \n",
    "\n",
    "# inputer = Inputer(\n",
    "#     inputCols = ['Name', 'Salary/Hr', 'Duration']\n",
    "#     outputCols = \n",
    "# )"
   ]
  }
 ],
 "metadata": {
  "kernelspec": {
   "display_name": "Python 3",
   "language": "python",
   "name": "python3"
  },
  "language_info": {
   "codemirror_mode": {
    "name": "ipython",
    "version": 3
   },
   "file_extension": ".py",
   "mimetype": "text/x-python",
   "name": "python",
   "nbconvert_exporter": "python",
   "pygments_lexer": "ipython3",
   "version": "3.11.6"
  }
 },
 "nbformat": 4,
 "nbformat_minor": 2
}
